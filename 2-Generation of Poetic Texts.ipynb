{
  "cells": [
    {
      "cell_type": "markdown",
      "metadata": {
        "id": "uKOZJpSejuwQ"
      },
      "source": [
        "# SENTIMENTAL AI\n",
        "# SnT Summer Project, BCS-IITK\n",
        "## Assignment-2\n",
        "\n",
        "Reference- https://github.com/07Agarg/Natural-Language-Processing-In-Tensorflow-Course/blob/master/Week%204/NLP_Week4_Exercise_Shakespeare_Question.ipynb "
      ]
    },
    {
      "cell_type": "code",
      "execution_count": null,
      "metadata": {
        "id": "UbboSp2kgxU2"
      },
      "outputs": [],
      "source": [
        "from tensorflow.keras.preprocessing.sequence import pad_sequences\n",
        "from tensorflow.keras.layers import Embedding, LSTM, Dense, Dropout, Bidirectional\n",
        "from tensorflow.keras.preprocessing.text import Tokenizer\n",
        "from tensorflow.keras.models import Sequential\n",
        "from tensorflow.keras.optimizers import Adam\n",
        "from tensorflow.keras.regularizers import Regularizer\n",
        "import tensorflow.keras.utils as ku \n",
        "import numpy as np "
      ]
    },
    {
      "cell_type": "code",
      "execution_count": null,
      "metadata": {
        "colab": {
          "base_uri": "https://localhost:8080/"
        },
        "id": "bjKVL_nyg6EX",
        "outputId": "b396204c-02a6-425e-eb41-8bc8b841fb3f"
      },
      "outputs": [
        {
          "output_type": "stream",
          "name": "stdout",
          "text": [
            "--2022-06-17 16:20:29--  https://storage.googleapis.com/laurencemoroney-blog.appspot.com/sonnets.txt\n",
            "Resolving storage.googleapis.com (storage.googleapis.com)... 142.250.31.128, 142.251.111.128, 172.217.12.240, ...\n",
            "Connecting to storage.googleapis.com (storage.googleapis.com)|142.250.31.128|:443... connected.\n",
            "HTTP request sent, awaiting response... 200 OK\n",
            "Length: 93578 (91K) [text/plain]\n",
            "Saving to: ‘/tmp/sonnets.txt’\n",
            "\n",
            "\r/tmp/sonnets.txt      0%[                    ]       0  --.-KB/s               \r/tmp/sonnets.txt    100%[===================>]  91.38K  --.-KB/s    in 0.001s  \n",
            "\n",
            "2022-06-17 16:20:29 (81.3 MB/s) - ‘/tmp/sonnets.txt’ saved [93578/93578]\n",
            "\n"
          ]
        }
      ],
      "source": [
        "tokenizer = Tokenizer()\n",
        "!wget --no-check-certificate \\\n",
        "    https://storage.googleapis.com/laurencemoroney-blog.appspot.com/sonnets.txt \\\n",
        "    -O /tmp/sonnets.txt\n",
        "data = open('/tmp/sonnets.txt').read()\n",
        "\n",
        "\n",
        "\n",
        "corpus = data.lower().split(\"\\n\")  #convert to lower case and then split the data on '\\n' to create a corpus of lines\n",
        "tokenizer.fit_on_texts(corpus) #fit the tokenizer on the corpus\n",
        "total_words = len(tokenizer.word_index) + 1\n",
        "\n",
        "\n",
        "\n",
        "# create input sequences using list of tokens\n",
        "input_sequences = []\n",
        "for line in corpus:\n",
        "\ttoken_list = tokenizer.texts_to_sequences([line])[0]\n",
        "\tfor i in range(1, len(token_list)):\n",
        "\t\tn_gram_sequence = token_list[:i+1]\n",
        "\t\tinput_sequences.append(n_gram_sequence)\n",
        "\n",
        "\n",
        "# pad sequences \n",
        "max_sequence_len = max([len(x) for x in input_sequences])\n",
        "input_sequences = np.array(pad_sequences(input_sequences, maxlen=max_sequence_len, padding='pre'))\n",
        "\n",
        "# create predictors and label\n",
        "predictors, label = input_sequences[:,:-1],input_sequences[:,-1]\n",
        "\n",
        "label = ku.to_categorical(label, num_classes=total_words)"
      ]
    },
    {
      "cell_type": "code",
      "execution_count": null,
      "metadata": {
        "colab": {
          "base_uri": "https://localhost:8080/"
        },
        "id": "6GnoE7fchEp6",
        "outputId": "56e63b22-95bf-4b01-900f-44a040692145"
      },
      "outputs": [
        {
          "output_type": "stream",
          "name": "stdout",
          "text": [
            "Model: \"sequential\"\n",
            "_________________________________________________________________\n",
            " Layer (type)                Output Shape              Param #   \n",
            "=================================================================\n",
            " embedding (Embedding)       (None, 10, 100)           321100    \n",
            "                                                                 \n",
            " bidirectional (Bidirectiona  (None, 10, 300)          301200    \n",
            " l)                                                              \n",
            "                                                                 \n",
            " dropout (Dropout)           (None, 10, 300)           0         \n",
            "                                                                 \n",
            " lstm_1 (LSTM)               (None, 100)               160400    \n",
            "                                                                 \n",
            " dense (Dense)               (None, 1605)              162105    \n",
            "                                                                 \n",
            " dense_1 (Dense)             (None, 3211)              5156866   \n",
            "                                                                 \n",
            "=================================================================\n",
            "Total params: 6,101,671\n",
            "Trainable params: 6,101,671\n",
            "Non-trainable params: 0\n",
            "_________________________________________________________________\n",
            "None\n"
          ]
        }
      ],
      "source": [
        "model = Sequential()\n",
        "model.add(Embedding(total_words, 100, input_length=max_sequence_len-1))  #(# Your Embedding Layer)\n",
        "model.add(Bidirectional(LSTM(150, return_sequences=True)))  #(# A Bidirectional LSTM Layer)\n",
        "model.add(Dropout(0.2))  #(# A dropout layer)\n",
        "model.add(LSTM(100))  #(# Another LSTM Layer)\n",
        "model.add(Dense(total_words/2, activation='relu'))  #(# A Dense Layer including regularizers)\n",
        "model.add(Dense(total_words, activation='softmax'))  #(# A Dense Layer)\n",
        "# Pick an optimizer\n",
        "model.compile(loss='categorical_crossentropy', optimizer='adam', metrics='accuracy')  #(# Pick a loss function and an optimizer)\n",
        "print(model.summary()) #print model summary"
      ]
    },
    {
      "cell_type": "code",
      "execution_count": null,
      "metadata": {
        "colab": {
          "base_uri": "https://localhost:8080/"
        },
        "id": "Se-rEkushRht",
        "outputId": "cfe25491-4b2f-41ad-967a-9650bde4126d"
      },
      "outputs": [
        {
          "output_type": "stream",
          "name": "stdout",
          "text": [
            "Epoch 1/100\n",
            "484/484 [==============================] - 58s 101ms/step - loss: 6.7975 - accuracy: 0.0233\n",
            "Epoch 2/100\n",
            "484/484 [==============================] - 49s 101ms/step - loss: 6.4077 - accuracy: 0.0343\n",
            "Epoch 3/100\n",
            "484/484 [==============================] - 48s 100ms/step - loss: 6.2135 - accuracy: 0.0347\n",
            "Epoch 4/100\n",
            "484/484 [==============================] - 49s 102ms/step - loss: 5.9898 - accuracy: 0.0430\n",
            "Epoch 5/100\n",
            "484/484 [==============================] - 48s 99ms/step - loss: 5.7144 - accuracy: 0.0532\n",
            "Epoch 6/100\n",
            "484/484 [==============================] - 48s 99ms/step - loss: 5.4387 - accuracy: 0.0632\n",
            "Epoch 7/100\n",
            "484/484 [==============================] - 48s 99ms/step - loss: 5.1668 - accuracy: 0.0755\n",
            "Epoch 8/100\n",
            "484/484 [==============================] - 48s 99ms/step - loss: 4.9021 - accuracy: 0.0952\n",
            "Epoch 9/100\n",
            "484/484 [==============================] - 49s 101ms/step - loss: 4.6068 - accuracy: 0.1120\n",
            "Epoch 10/100\n",
            "484/484 [==============================] - 48s 99ms/step - loss: 4.2871 - accuracy: 0.1391\n",
            "Epoch 11/100\n",
            "484/484 [==============================] - 48s 99ms/step - loss: 3.9419 - accuracy: 0.1736\n",
            "Epoch 12/100\n",
            "484/484 [==============================] - 48s 99ms/step - loss: 3.5708 - accuracy: 0.2202\n",
            "Epoch 13/100\n",
            "484/484 [==============================] - 48s 99ms/step - loss: 3.1967 - accuracy: 0.2791\n",
            "Epoch 14/100\n",
            "484/484 [==============================] - 48s 98ms/step - loss: 2.8377 - accuracy: 0.3470\n",
            "Epoch 15/100\n",
            "484/484 [==============================] - 49s 101ms/step - loss: 2.5199 - accuracy: 0.4040\n",
            "Epoch 16/100\n",
            "484/484 [==============================] - 48s 99ms/step - loss: 2.2507 - accuracy: 0.4608\n",
            "Epoch 17/100\n",
            "484/484 [==============================] - 48s 99ms/step - loss: 2.0057 - accuracy: 0.5155\n",
            "Epoch 18/100\n",
            "484/484 [==============================] - 48s 99ms/step - loss: 1.8099 - accuracy: 0.5590\n",
            "Epoch 19/100\n",
            "484/484 [==============================] - 48s 99ms/step - loss: 1.6207 - accuracy: 0.6034\n",
            "Epoch 20/100\n",
            "484/484 [==============================] - 48s 99ms/step - loss: 1.4667 - accuracy: 0.6405\n",
            "Epoch 21/100\n",
            "484/484 [==============================] - 48s 98ms/step - loss: 1.3446 - accuracy: 0.6673\n",
            "Epoch 22/100\n",
            "484/484 [==============================] - 48s 99ms/step - loss: 1.2344 - accuracy: 0.6936\n",
            "Epoch 23/100\n",
            "484/484 [==============================] - 48s 99ms/step - loss: 1.1530 - accuracy: 0.7125\n",
            "Epoch 24/100\n",
            "484/484 [==============================] - 48s 99ms/step - loss: 1.0548 - accuracy: 0.7350\n",
            "Epoch 25/100\n",
            "484/484 [==============================] - 48s 98ms/step - loss: 0.9849 - accuracy: 0.7532\n",
            "Epoch 26/100\n",
            "484/484 [==============================] - 47s 98ms/step - loss: 0.9420 - accuracy: 0.7619\n",
            "Epoch 27/100\n",
            "484/484 [==============================] - 48s 98ms/step - loss: 0.8893 - accuracy: 0.7774\n",
            "Epoch 28/100\n",
            "484/484 [==============================] - 48s 98ms/step - loss: 0.8529 - accuracy: 0.7841\n",
            "Epoch 29/100\n",
            "484/484 [==============================] - 49s 101ms/step - loss: 0.8258 - accuracy: 0.7904\n",
            "Epoch 30/100\n",
            "484/484 [==============================] - 48s 99ms/step - loss: 0.8031 - accuracy: 0.7930\n",
            "Epoch 31/100\n",
            "484/484 [==============================] - 48s 99ms/step - loss: 0.7741 - accuracy: 0.7990\n",
            "Epoch 32/100\n",
            "484/484 [==============================] - 48s 98ms/step - loss: 0.7503 - accuracy: 0.8057\n",
            "Epoch 33/100\n",
            "484/484 [==============================] - 48s 98ms/step - loss: 0.7283 - accuracy: 0.8130\n",
            "Epoch 34/100\n",
            "484/484 [==============================] - 48s 98ms/step - loss: 0.7027 - accuracy: 0.8151\n",
            "Epoch 35/100\n",
            "484/484 [==============================] - 48s 98ms/step - loss: 0.6821 - accuracy: 0.8233\n",
            "Epoch 36/100\n",
            "484/484 [==============================] - 48s 99ms/step - loss: 0.6768 - accuracy: 0.8218\n",
            "Epoch 37/100\n",
            "484/484 [==============================] - 48s 99ms/step - loss: 0.6753 - accuracy: 0.8210\n",
            "Epoch 38/100\n",
            "484/484 [==============================] - 48s 99ms/step - loss: 0.6697 - accuracy: 0.8221\n",
            "Epoch 39/100\n",
            "484/484 [==============================] - 49s 100ms/step - loss: 0.6624 - accuracy: 0.8229\n",
            "Epoch 40/100\n",
            "484/484 [==============================] - 48s 98ms/step - loss: 0.6507 - accuracy: 0.8272\n",
            "Epoch 41/100\n",
            "484/484 [==============================] - 48s 98ms/step - loss: 0.6463 - accuracy: 0.8265\n",
            "Epoch 42/100\n",
            "484/484 [==============================] - 48s 99ms/step - loss: 0.6243 - accuracy: 0.8326\n",
            "Epoch 43/100\n",
            "484/484 [==============================] - 48s 99ms/step - loss: 0.6126 - accuracy: 0.8326\n",
            "Epoch 44/100\n",
            "484/484 [==============================] - 49s 101ms/step - loss: 0.6341 - accuracy: 0.8267\n",
            "Epoch 45/100\n",
            "484/484 [==============================] - 48s 99ms/step - loss: 0.6338 - accuracy: 0.8278\n",
            "Epoch 46/100\n",
            "484/484 [==============================] - 48s 99ms/step - loss: 0.6131 - accuracy: 0.8317\n",
            "Epoch 47/100\n",
            "484/484 [==============================] - 48s 98ms/step - loss: 0.5972 - accuracy: 0.8359\n",
            "Epoch 48/100\n",
            "484/484 [==============================] - 48s 100ms/step - loss: 0.5985 - accuracy: 0.8358\n",
            "Epoch 49/100\n",
            "484/484 [==============================] - 48s 99ms/step - loss: 0.5882 - accuracy: 0.8386\n",
            "Epoch 50/100\n",
            "484/484 [==============================] - 49s 101ms/step - loss: 0.5918 - accuracy: 0.8377\n",
            "Epoch 51/100\n",
            "484/484 [==============================] - 48s 99ms/step - loss: 0.5813 - accuracy: 0.8390\n",
            "Epoch 52/100\n",
            "484/484 [==============================] - 48s 99ms/step - loss: 0.5923 - accuracy: 0.8354\n",
            "Epoch 53/100\n",
            "484/484 [==============================] - 48s 99ms/step - loss: 0.5867 - accuracy: 0.8337\n",
            "Epoch 54/100\n",
            "484/484 [==============================] - 48s 100ms/step - loss: 0.5878 - accuracy: 0.8357\n",
            "Epoch 55/100\n",
            "484/484 [==============================] - 48s 99ms/step - loss: 0.5720 - accuracy: 0.8377\n",
            "Epoch 56/100\n",
            "484/484 [==============================] - 48s 99ms/step - loss: 0.5727 - accuracy: 0.8382\n",
            "Epoch 57/100\n",
            "484/484 [==============================] - 48s 100ms/step - loss: 0.5769 - accuracy: 0.8354\n",
            "Epoch 58/100\n",
            "484/484 [==============================] - 48s 99ms/step - loss: 0.5732 - accuracy: 0.8357\n",
            "Epoch 59/100\n",
            "484/484 [==============================] - 48s 99ms/step - loss: 0.5717 - accuracy: 0.8364\n",
            "Epoch 60/100\n",
            "484/484 [==============================] - 49s 101ms/step - loss: 0.5624 - accuracy: 0.8397\n",
            "Epoch 61/100\n",
            "484/484 [==============================] - 48s 99ms/step - loss: 0.5443 - accuracy: 0.8445\n",
            "Epoch 62/100\n",
            "484/484 [==============================] - 48s 98ms/step - loss: 0.5432 - accuracy: 0.8438\n",
            "Epoch 63/100\n",
            "484/484 [==============================] - 48s 99ms/step - loss: 0.5542 - accuracy: 0.8408\n",
            "Epoch 64/100\n",
            "484/484 [==============================] - 48s 99ms/step - loss: 0.5614 - accuracy: 0.8397\n",
            "Epoch 65/100\n",
            "484/484 [==============================] - 48s 99ms/step - loss: 0.5600 - accuracy: 0.8373\n",
            "Epoch 66/100\n",
            "484/484 [==============================] - 49s 101ms/step - loss: 0.5641 - accuracy: 0.8382\n",
            "Epoch 67/100\n",
            "484/484 [==============================] - 48s 100ms/step - loss: 0.5478 - accuracy: 0.8406\n",
            "Epoch 68/100\n",
            "484/484 [==============================] - 48s 99ms/step - loss: 0.5435 - accuracy: 0.8410\n",
            "Epoch 69/100\n",
            "484/484 [==============================] - 49s 100ms/step - loss: 0.5339 - accuracy: 0.8453\n",
            "Epoch 70/100\n",
            "484/484 [==============================] - 48s 100ms/step - loss: 0.5344 - accuracy: 0.8432\n",
            "Epoch 71/100\n",
            "484/484 [==============================] - 48s 100ms/step - loss: 0.5346 - accuracy: 0.8429\n",
            "Epoch 72/100\n",
            "484/484 [==============================] - 48s 98ms/step - loss: 0.5565 - accuracy: 0.8383\n",
            "Epoch 73/100\n",
            "484/484 [==============================] - 48s 99ms/step - loss: 0.5406 - accuracy: 0.8413\n",
            "Epoch 74/100\n",
            "484/484 [==============================] - 48s 99ms/step - loss: 0.5390 - accuracy: 0.8412\n",
            "Epoch 75/100\n",
            "484/484 [==============================] - 48s 99ms/step - loss: 0.5453 - accuracy: 0.8388\n",
            "Epoch 76/100\n",
            "484/484 [==============================] - 49s 102ms/step - loss: 0.5285 - accuracy: 0.8430\n",
            "Epoch 77/100\n",
            "484/484 [==============================] - 48s 99ms/step - loss: 0.5293 - accuracy: 0.8441\n",
            "Epoch 78/100\n",
            "484/484 [==============================] - 48s 100ms/step - loss: 0.5314 - accuracy: 0.8414\n",
            "Epoch 79/100\n",
            "484/484 [==============================] - 48s 100ms/step - loss: 0.5456 - accuracy: 0.8385\n",
            "Epoch 80/100\n",
            "484/484 [==============================] - 49s 101ms/step - loss: 0.5480 - accuracy: 0.8388\n",
            "Epoch 81/100\n",
            "484/484 [==============================] - 48s 99ms/step - loss: 0.5337 - accuracy: 0.8408\n",
            "Epoch 82/100\n",
            "484/484 [==============================] - 48s 100ms/step - loss: 0.5128 - accuracy: 0.8483\n",
            "Epoch 83/100\n",
            "484/484 [==============================] - 48s 99ms/step - loss: 0.5135 - accuracy: 0.8469\n",
            "Epoch 84/100\n",
            "484/484 [==============================] - 48s 99ms/step - loss: 0.5102 - accuracy: 0.8478\n",
            "Epoch 85/100\n",
            "484/484 [==============================] - 48s 99ms/step - loss: 0.5218 - accuracy: 0.8440\n",
            "Epoch 86/100\n",
            "484/484 [==============================] - 48s 99ms/step - loss: 0.5401 - accuracy: 0.8377\n",
            "Epoch 87/100\n",
            "484/484 [==============================] - 49s 101ms/step - loss: 0.5364 - accuracy: 0.8412\n",
            "Epoch 88/100\n",
            "484/484 [==============================] - 48s 100ms/step - loss: 0.5227 - accuracy: 0.8436\n",
            "Epoch 89/100\n",
            "484/484 [==============================] - 48s 100ms/step - loss: 0.5177 - accuracy: 0.8448\n",
            "Epoch 90/100\n",
            "484/484 [==============================] - 48s 100ms/step - loss: 0.5138 - accuracy: 0.8457\n",
            "Epoch 91/100\n",
            "484/484 [==============================] - 48s 99ms/step - loss: 0.5094 - accuracy: 0.8452\n",
            "Epoch 92/100\n",
            "484/484 [==============================] - 49s 101ms/step - loss: 0.5228 - accuracy: 0.8439\n",
            "Epoch 93/100\n",
            "484/484 [==============================] - 48s 99ms/step - loss: 0.5237 - accuracy: 0.8434\n",
            "Epoch 94/100\n",
            "484/484 [==============================] - 48s 99ms/step - loss: 0.5384 - accuracy: 0.8388\n",
            "Epoch 95/100\n",
            "484/484 [==============================] - 48s 100ms/step - loss: 0.5256 - accuracy: 0.8418\n",
            "Epoch 96/100\n",
            "484/484 [==============================] - 49s 101ms/step - loss: 0.5054 - accuracy: 0.8471\n",
            "Epoch 97/100\n",
            "484/484 [==============================] - 48s 99ms/step - loss: 0.5044 - accuracy: 0.8465\n",
            "Epoch 98/100\n",
            "484/484 [==============================] - 48s 99ms/step - loss: 0.5078 - accuracy: 0.8446\n",
            "Epoch 99/100\n",
            "484/484 [==============================] - 48s 99ms/step - loss: 0.5107 - accuracy: 0.8478\n",
            "Epoch 100/100\n",
            "484/484 [==============================] - 48s 100ms/step - loss: 0.5018 - accuracy: 0.8494\n"
          ]
        }
      ],
      "source": [
        " history = model.fit(predictors, label, epochs=100, verbose=1) #change the number of epochs after observing the plots later on at the point where the accuracy saturates"
      ]
    },
    {
      "cell_type": "code",
      "execution_count": null,
      "metadata": {
        "id": "HMq2MUuohVAw",
        "colab": {
          "base_uri": "https://localhost:8080/",
          "height": 545
        },
        "outputId": "b5ad97aa-2824-44b0-fa8c-e7a26302b92b"
      },
      "outputs": [
        {
          "output_type": "display_data",
          "data": {
            "text/plain": [
              "<Figure size 432x288 with 1 Axes>"
            ],
            "image/png": "[encoded data removed]"
          },
          "metadata": {
            "needs_background": "light"
          }
        },
        {
          "output_type": "display_data",
          "data": {
            "text/plain": [
              "<Figure size 432x288 with 1 Axes>"
            ],
            "image/png": "[encoded data removed]"
          },
          "metadata": {
            "needs_background": "light"
          }
        }
      ],
      "source": [
        "import matplotlib.pyplot as plt\n",
        "acc = history.history['accuracy']\n",
        "loss = history.history['loss']\n",
        "\n",
        "epochs = range(len(acc))\n",
        "\n",
        "plt.plot(epochs, acc, 'b', label='Training accuracy')\n",
        "plt.title('Training accuracy')\n",
        "\n",
        "plt.figure()\n",
        "\n",
        "plt.plot(epochs, loss, 'b', label='Training Loss')\n",
        "plt.title('Training loss')\n",
        "plt.legend()\n",
        "\n",
        "plt.show()"
      ]
    },
    {
      "cell_type": "code",
      "execution_count": null,
      "metadata": {
        "id": "j5Q2VQek4ebV",
        "colab": {
          "base_uri": "https://localhost:8080/"
        },
        "outputId": "c4e0ebb7-b1f3-4936-9f8a-61bf77efac52"
      },
      "outputs": [
        {
          "output_type": "stream",
          "name": "stdout",
          "text": [
            "Help me Obi Wan Kenobi, you're my only hope we know loss of love of thee of thy sight fled gone worth long joy live true old dear love of my possessing might rise and fall hid of part rolling twain twain twain twain rolling rolling twain twain twain twain twain ill delight can sing new worth in this ' dumb esteem'd esteem'd bright another ' live bright no art old 'will ' nearly 'will ' delight can survey worth that still new bright bright thy fair eyes dead room hence room staineth staineth staineth by sorrow judgment rotten rolling rolling rolling rolling rotten rotten far room favour suppress'd\n"
          ]
        }
      ],
      "source": [
        "seed_text = \"Help me Obi Wan Kenobi, you're my only hope\"\n",
        "next_words = 100 #Play with this quantity to change the number of words you want to see in the output after the seed_text\n",
        "\n",
        "for _ in range(next_words):\n",
        "  token_list = tokenizer.texts_to_sequences([seed_text])[0]\n",
        "  token_list = pad_sequences([token_list], maxlen=max_sequence_len-1, padding='pre')\n",
        "  predict_x = model.predict(token_list)\n",
        "  classes_x = np.argmax(predict_x, axis=1)\n",
        "  output_word = \"\"\n",
        "  for word, index in tokenizer.word_index.items():\n",
        "    if index == classes_x:\n",
        "      output_word = word\n",
        "      break\n",
        "  seed_text += \" \" + output_word\n",
        "print(seed_text)"
      ]
    }
  ],
  "metadata": {
    "colab": {
      "name": "Copy of Sentimental_AI_A2.ipynb",
      "provenance": []
    },
    "kernelspec": {
      "display_name": "Python 3",
      "name": "python3"
    },
    "language_info": {
      "name": "python"
    }
  },
  "nbformat": 4,
  "nbformat_minor": 0
}